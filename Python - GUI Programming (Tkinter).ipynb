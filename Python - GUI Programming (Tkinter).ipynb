{
 "cells": [
  {
   "cell_type": "markdown",
   "metadata": {},
   "source": [
    "# Python - GUI Programming (Tkinter)\n",
    "Tkinter − Tkinter is the Python interface to the Tk GUI toolkit shipped with Python. "
   ]
  },
  {
   "cell_type": "markdown",
   "metadata": {},
   "source": [
    "    Tkinter is the standard GUI library for Python. Python when combined with Tkinter provides a fast and easy way to create GUI applications. Tkinter provides a powerful object-oriented interface to the Tk GUI toolkit.\n",
    "\n",
    "Creating a GUI application using Tkinter is an easy task. All you need to do is perform the following steps −\n",
    "\n",
    "* Import the Tkinter module.\n",
    "\n",
    "* Create the GUI application main window.\n",
    "\n",
    "* Add one or more of the above-mentioned widgets to the GUI application.\n",
    "\n",
    "* Enter the main event loop to take action against each event triggered by the user."
   ]
  },
  {
   "cell_type": "code",
   "execution_count": 3,
   "metadata": {},
   "outputs": [],
   "source": [
    "from tkinter import *\n",
    "from tkinter import filedialog \n",
    "filename = ''\n",
    "   \n",
    "def firePredictionArea(data_frame):\n",
    "    output = ''\n",
    "    df_columns = ['Humidity', 'Temperature', 'Light Intensity Level', 'CO Level']\n",
    "    areas = np.unique(np.array(sample_df['Area']))\n",
    "    \n",
    "    for area in areas:\n",
    "        input_sample_df = pd.DataFrame(columns=df_columns)\n",
    "        idx = 0\n",
    "        for i, row in data_frame.iterrows():\n",
    "            if data_frame['Area'][i] == area:\n",
    "                input_sample_df.loc[idx] = row[['Humidity', 'Temperature', 'Light Intensity Level', 'CO Level']].values.tolist()\n",
    "                idx += 1\n",
    "                \n",
    "        area_pred=reg_model.predict(input_sample_df)\n",
    "        if round(mean(area_pred), 1) >= 0.5:\n",
    "            output = output + 'Fire on Area - ',area\n",
    "            #print('Fire on Area - ',area)\n",
    "    return output\n",
    "\n",
    "# file explorer window \n",
    "def browseFiles(): \n",
    "    filename = filedialog.askopenfilename()        \n",
    "    # Change label contents \n",
    "    label_file_explorer.configure(text=\"File Opened: \"+filename) \n",
    "    if len(filename)>1:\n",
    "        sample_df = pd.read_csv(filename,encoding = \"ISO-8859-1\")\n",
    "        outputvalue = firePredictionArea(sample_df)\n",
    "        label_output.configure(text=\"Prediction : \"+str(outputvalue)) \n",
    "        \n",
    "                                                                                                                   \n",
    "# Create the root window \n",
    "window = Tk() \n",
    "window.title(\"Fire Prediction\") \n",
    "window.geometry('450x300')# Set window size\n",
    "\n",
    "lblHeader = Label(window, text=\"Fire Prediction\", font=(\"Arial Bold\", 20))\n",
    "lblHeader.grid(column=1, row=1)\n",
    "\n",
    "#window.config(background = \"white\") #Set window background color \n",
    "   \n",
    "# Create a File Explorer label \n",
    "label_file_explorer = Label(window,text = \"Upload csv data File :\",width = 50, height = 4,fg = \"blue\")    \n",
    "label_file_explorer.grid(column = 1, row = 2)  \n",
    "\n",
    "button_explore = Button(window,text = \"Browse Files & Predict\",command = browseFiles)  \n",
    "button_explore.grid(column = 1, row = 3) \n",
    "\n",
    "button_exit = Button(window,text = \"Exit\",command = exit)    \n",
    "button_exit.grid(column = 1,row = 6) \n",
    "\n",
    "label_output = Label(window,text = \"Prediction :\",width = 50, height = 4,fg = \"red\")    \n",
    "label_output.grid(column = 1, row = 5) \n",
    "   \n",
    "# Let the window wait for any events \n",
    "window.mainloop() "
   ]
  },
  {
   "cell_type": "markdown",
   "metadata": {},
   "source": []
  }
 ],
 "metadata": {
  "kernelspec": {
   "display_name": "Python 3",
   "language": "python",
   "name": "python3"
  },
  "language_info": {
   "codemirror_mode": {
    "name": "ipython",
    "version": 3
   },
   "file_extension": ".py",
   "mimetype": "text/x-python",
   "name": "python",
   "nbconvert_exporter": "python",
   "pygments_lexer": "ipython3",
   "version": "3.7.6"
  }
 },
 "nbformat": 4,
 "nbformat_minor": 4
}
